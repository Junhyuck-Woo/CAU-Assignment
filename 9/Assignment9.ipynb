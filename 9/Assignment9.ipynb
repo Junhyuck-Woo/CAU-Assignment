{
 "cells": [
  {
   "cell_type": "markdown",
   "metadata": {},
   "source": [
    "# Information\n",
    "$Writer:{\\;}Junhyuck{\\;}Woo\n",
    "\\\\ Std. ID: 20145337\n",
    "\\\\ Project:{\\;}Build{\\;}a{\\;}binary{\\;}classifier{\\;}to{\\;}classify{\\;}digit{\\;}0{\\;}against{\\;}all{\\;}the{\\;}other{\\;}digits{\\;}at{\\;}MNIST{\\;}dataset.$"
   ]
  },
  {
   "cell_type": "markdown",
   "metadata": {},
   "source": [
    "# import library"
   ]
  },
  {
   "cell_type": "code",
   "execution_count": 1,
   "metadata": {},
   "outputs": [],
   "source": [
    "import numpy as np\n",
    "import pandas as pd"
   ]
  },
  {
   "cell_type": "markdown",
   "metadata": {},
   "source": [
    "# Load files\n",
    "Training data, Testing data"
   ]
  },
  {
   "cell_type": "code",
   "execution_count": 2,
   "metadata": {},
   "outputs": [],
   "source": [
    "file_data  = \"mnist_train.csv\"\n",
    "handle_file = open(file_data, \"r\")\n",
    "train_data  = handle_file.readlines()\n",
    "handle_file.close()\n",
    "\n",
    "file_data  = \"mnist_test.csv\"\n",
    "handle_file = open(file_data, \"r\")\n",
    "test_data  = handle_file.readlines()\n",
    "handle_file.close()"
   ]
  },
  {
   "cell_type": "markdown",
   "metadata": {},
   "source": [
    "# Global Parameter"
   ]
  },
  {
   "cell_type": "code",
   "execution_count": 3,
   "metadata": {},
   "outputs": [],
   "source": [
    "count = 0\n",
    "size_row = 28\n",
    "size_col = 28\n",
    "num_true = 0\n",
    "num_true_t = 0\n",
    "num_train = len(train_data)\n",
    "num_test = len(test_data)\n",
    "train_image  = np.empty((size_row * size_col + 1, num_train), dtype=float)\n",
    "train_label  = np.empty(num_train, dtype=int)\n",
    "test_image  = np.empty((size_row * size_col + 1, num_test), dtype=float)\n",
    "test_label = np.empty(num_test, dtype=int)"
   ]
  },
  {
   "cell_type": "markdown",
   "metadata": {},
   "source": [
    "# Reshape data & Set label"
   ]
  },
  {
   "cell_type": "code",
   "execution_count": 4,
   "metadata": {},
   "outputs": [],
   "source": [
    "count = 0\n",
    "num_true = 0;\n",
    "for line in train_data:\n",
    "    line_data= line.split(',')\n",
    "    label = line_data[0]\n",
    "    im_vector = np.asfarray(line_data[1:])\n",
    "    im_vector = np.insert(im_vector, 0, 1)\n",
    "    \n",
    "    if (int(label)==0):\n",
    "        train_label[count]      = 1\n",
    "        num_true += 1\n",
    "    else:\n",
    "        train_label[count]      = -1\n",
    "    \n",
    "    train_image[:, count] = im_vector\n",
    "    count += 1"
   ]
  },
  {
   "cell_type": "code",
   "execution_count": 5,
   "metadata": {},
   "outputs": [],
   "source": [
    "count = 0\n",
    "num_true_t = 0\n",
    "for line in test_data:\n",
    "    line_data= line.split(',')\n",
    "    label = line_data[0]\n",
    "    im_vector = np.asfarray(line_data[1:])\n",
    "    im_vector = np.insert(im_vector, 0, 1)\n",
    "    \n",
    "    if (int(label)==0):\n",
    "        test_label[count]      = 1\n",
    "        num_true_t += 1\n",
    "    else:\n",
    "        test_label[count]      = -1\n",
    "    \n",
    "    test_image[:, count] = im_vector\n",
    "    count += 1"
   ]
  },
  {
   "cell_type": "code",
   "execution_count": 6,
   "metadata": {},
   "outputs": [],
   "source": [
    "A = np.asmatrix(train_image.transpose())\n",
    "y = np.asmatrix(train_label)\n",
    "pinv_A = np.linalg.pinv(A)"
   ]
  },
  {
   "cell_type": "code",
   "execution_count": 7,
   "metadata": {},
   "outputs": [],
   "source": [
    "A_t = np.asmatrix(test_image.transpose())\n",
    "y_t = np.asmatrix(test_label)"
   ]
  },
  {
   "cell_type": "code",
   "execution_count": 8,
   "metadata": {},
   "outputs": [],
   "source": [
    "x = pinv_A * y.transpose()"
   ]
  },
  {
   "cell_type": "code",
   "execution_count": 9,
   "metadata": {},
   "outputs": [],
   "source": [
    "y_ = A * x\n",
    "y_t_ = A_t * x"
   ]
  },
  {
   "cell_type": "code",
   "execution_count": 10,
   "metadata": {},
   "outputs": [],
   "source": [
    "tp=0; fp=0; tn=0; fn=0\n",
    "for i in range(num_train):\n",
    "    if(y_[i] < 0):\n",
    "        y_[i] = -1\n",
    "        if(y.T[i] < 0):\n",
    "            tn += 1\n",
    "        else:\n",
    "            fn += 1\n",
    "    else:\n",
    "        y_[i] = 1\n",
    "        if(y.T[i] < 0):\n",
    "            fp += 1\n",
    "        else:\n",
    "            tp += 1"
   ]
  },
  {
   "cell_type": "code",
   "execution_count": 11,
   "metadata": {},
   "outputs": [],
   "source": [
    "tp_t=0; fp_t=0; tn_t=0; fn_t=0\n",
    "for i in range(len(y_t_)):\n",
    "    if(y_t_[i] < 0):\n",
    "        y_t_[i] = -1\n",
    "        if(y_t.T[i] < 0):\n",
    "            tn_t += 1\n",
    "        else:\n",
    "            fn_t += 1\n",
    "    else:\n",
    "        y_t_[i] = 1\n",
    "        if(y_t.T[i] < 0):\n",
    "            fp_t += 1\n",
    "        else:\n",
    "            tp_t += 1"
   ]
  },
  {
   "cell_type": "code",
   "execution_count": 14,
   "metadata": {},
   "outputs": [
    {
     "name": "stdout",
     "output_type": "stream",
     "text": [
      "Train data set\n"
     ]
    },
    {
     "data": {
      "text/html": [
       "<div>\n",
       "<style scoped>\n",
       "    .dataframe tbody tr th:only-of-type {\n",
       "        vertical-align: middle;\n",
       "    }\n",
       "\n",
       "    .dataframe tbody tr th {\n",
       "        vertical-align: top;\n",
       "    }\n",
       "\n",
       "    .dataframe thead th {\n",
       "        text-align: right;\n",
       "    }\n",
       "</style>\n",
       "<table border=\"1\" class=\"dataframe\">\n",
       "  <thead>\n",
       "    <tr style=\"text-align: right;\">\n",
       "      <th></th>\n",
       "      <th>True</th>\n",
       "      <th>False</th>\n",
       "    </tr>\n",
       "  </thead>\n",
       "  <tbody>\n",
       "    <tr>\n",
       "      <th>Possitive</th>\n",
       "      <td>0.872531</td>\n",
       "      <td>0.003310</td>\n",
       "    </tr>\n",
       "    <tr>\n",
       "      <th>Negative</th>\n",
       "      <td>0.996690</td>\n",
       "      <td>0.127469</td>\n",
       "    </tr>\n",
       "  </tbody>\n",
       "</table>\n",
       "</div>"
      ],
      "text/plain": [
       "               True     False\n",
       "Possitive  0.872531  0.003310\n",
       "Negative   0.996690  0.127469"
      ]
     },
     "execution_count": 14,
     "metadata": {},
     "output_type": "execute_result"
    }
   ],
   "source": [
    "acc_tp = tp / num_true\n",
    "acc_fp = fp / (num_train-num_true)\n",
    "acc_fn = fn / num_true\n",
    "acc_tn = tn / (num_train-num_true)\n",
    "print(\"Train data set\")\n",
    "train_result = np.array([[acc_tp, acc_fp],[acc_tn, acc_fn]])\n",
    "chart = pd.DataFrame(train_result, index=['Possitive', 'Negative'], columns=['True', 'False'])\n",
    "chart"
   ]
  },
  {
   "cell_type": "code",
   "execution_count": 15,
   "metadata": {},
   "outputs": [
    {
     "name": "stdout",
     "output_type": "stream",
     "text": [
      "Test data set\n"
     ]
    },
    {
     "data": {
      "text/html": [
       "<div>\n",
       "<style scoped>\n",
       "    .dataframe tbody tr th:only-of-type {\n",
       "        vertical-align: middle;\n",
       "    }\n",
       "\n",
       "    .dataframe tbody tr th {\n",
       "        vertical-align: top;\n",
       "    }\n",
       "\n",
       "    .dataframe thead th {\n",
       "        text-align: right;\n",
       "    }\n",
       "</style>\n",
       "<table border=\"1\" class=\"dataframe\">\n",
       "  <thead>\n",
       "    <tr style=\"text-align: right;\">\n",
       "      <th></th>\n",
       "      <th>True</th>\n",
       "      <th>False</th>\n",
       "    </tr>\n",
       "  </thead>\n",
       "  <tbody>\n",
       "    <tr>\n",
       "      <th>Possitive</th>\n",
       "      <td>0.883673</td>\n",
       "      <td>0.004767</td>\n",
       "    </tr>\n",
       "    <tr>\n",
       "      <th>Negative</th>\n",
       "      <td>0.995233</td>\n",
       "      <td>0.116327</td>\n",
       "    </tr>\n",
       "  </tbody>\n",
       "</table>\n",
       "</div>"
      ],
      "text/plain": [
       "               True     False\n",
       "Possitive  0.883673  0.004767\n",
       "Negative   0.995233  0.116327"
      ]
     },
     "execution_count": 15,
     "metadata": {},
     "output_type": "execute_result"
    }
   ],
   "source": [
    "acc_tp_t = tp_t / num_true_t\n",
    "acc_fp_t = fp_t / (num_test-num_true_t)\n",
    "acc_fn_t = fn_t / num_true_t\n",
    "acc_tn_t = tn_t / (num_test-num_true_t)\n",
    "print(\"Test data set\")\n",
    "test_result = np.array([[acc_tp_t, acc_fp_t],[acc_tn_t, acc_fn_t]])\n",
    "chart = pd.DataFrame(test_result, index=['Possitive', 'Negative'], columns=['True', 'False'])\n",
    "chart"
   ]
  },
  {
   "cell_type": "code",
   "execution_count": null,
   "metadata": {},
   "outputs": [],
   "source": []
  }
 ],
 "metadata": {
  "kernelspec": {
   "display_name": "Python 3",
   "language": "python",
   "name": "python3"
  },
  "language_info": {
   "codemirror_mode": {
    "name": "ipython",
    "version": 3
   },
   "file_extension": ".py",
   "mimetype": "text/x-python",
   "name": "python",
   "nbconvert_exporter": "python",
   "pygments_lexer": "ipython3",
   "version": "3.5.0"
  }
 },
 "nbformat": 4,
 "nbformat_minor": 2
}

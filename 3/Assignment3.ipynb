{
 "cells": [
  {
   "cell_type": "markdown",
   "metadata": {},
   "source": [
    "# Information\n",
    "$Writer:{\\;}Junhyuck{\\;}Woo\n",
    "\\\\ Std. ID: 20145337\n",
    "\\\\Project:{\\;}Compute{\\;}the{\\;}average{\\;}images{\\;}for{\\;}each{\\;}label{\\;}(digit){\\;}based{\\;}on{\\;}L2-norm$\n"
   ]
  },
  {
   "cell_type": "markdown",
   "metadata": {},
   "source": [
    "# import library"
   ]
  },
  {
   "cell_type": "code",
   "execution_count": 1,
   "metadata": {},
   "outputs": [],
   "source": [
    "import matplotlib.pyplot as plt\n",
    "import numpy as np"
   ]
  },
  {
   "cell_type": "markdown",
   "metadata": {},
   "source": [
    "# Load file"
   ]
  },
  {
   "cell_type": "code",
   "execution_count": 2,
   "metadata": {},
   "outputs": [],
   "source": [
    "file_data  = \"mnist_train.csv\"\n",
    "handle_file= open(file_data, \"r\")\n",
    "data         = handle_file.readlines()\n",
    "handle_file.close()"
   ]
  },
  {
   "cell_type": "markdown",
   "metadata": {},
   "source": [
    "# Global parameter"
   ]
  },
  {
   "cell_type": "code",
   "execution_count": 3,
   "metadata": {},
   "outputs": [],
   "source": [
    "size_row = 28    # height of the image\n",
    "size_col  = 28    # width of the image\n",
    "num_image = len(data)\n",
    "count          = 0     # count for the number of images"
   ]
  },
  {
   "cell_type": "markdown",
   "metadata": {},
   "source": [
    "# Function: normalize the values of the input data to be [0, 1]"
   ]
  },
  {
   "cell_type": "code",
   "execution_count": 4,
   "metadata": {},
   "outputs": [],
   "source": [
    "def normalize(data):\n",
    "\n",
    "    data_normalized = (data - min(data)) / (max(data) - min(data))\n",
    "\n",
    "    return(data_normalized)"
   ]
  },
  {
   "cell_type": "markdown",
   "metadata": {},
   "source": [
    "# Function: L2 Norm\n",
    "$||x|| = \\sqrt{x{^2}{_1} + x{^2}{_2} + {\\cdot}{\\cdot}{\\cdot} + x{^2}{_n}}$"
   ]
  },
  {
   "cell_type": "code",
   "execution_count": 5,
   "metadata": {},
   "outputs": [],
   "source": [
    "def l2_norm(image):\n",
    "    average_image = 0\n",
    "    for pixel in image:\n",
    "        average_image += pixel * pixel\n",
    "        \n",
    "    average_image = np.sqrt(average_image)\n",
    "        \n",
    "    return(average_image)"
   ]
  },
  {
   "cell_type": "markdown",
   "metadata": {},
   "source": [
    "# make a matrix each column of which represents an images in a vector form "
   ]
  },
  {
   "cell_type": "code",
   "execution_count": 6,
   "metadata": {},
   "outputs": [],
   "source": [
    "pack_image = [[]*10 for i in range(10)]\n",
    "list_image  = np.empty((size_row * size_col, num_image), dtype=float)\n",
    "list_label  = np.empty(num_image, dtype=int)\n",
    "for line in data:\n",
    "\n",
    "    line_data   = line.split(',')\n",
    "    label       = line_data[0]\n",
    "    im_vector   = np.asfarray(line_data[1:])\n",
    "    im_vector   = normalize(im_vector)\n",
    "\n",
    "    list_label[count]       = label\n",
    "    list_image[:, count]    = im_vector    \n",
    "    pack_image[int(label)].append(im_vector)\n",
    "\n",
    "    count += 1"
   ]
  },
  {
   "cell_type": "markdown",
   "metadata": {},
   "source": [
    "# compute average image using L2 Norm"
   ]
  },
  {
   "cell_type": "code",
   "execution_count": 7,
   "metadata": {},
   "outputs": [],
   "source": [
    "list_result  = np.empty((size_row * size_col, 10), dtype=float)\n",
    "for i in range(10):\n",
    "    list_result[:, i] = l2_norm(pack_image[i])"
   ]
  },
  {
   "cell_type": "markdown",
   "metadata": {},
   "source": [
    "# plot average image"
   ]
  },
  {
   "cell_type": "code",
   "execution_count": 9,
   "metadata": {
    "scrolled": true
   },
   "outputs": [
    {
     "data": {
      "image/png": "[encoded data removed]",
      "text/plain": [
       "<Figure size 432x288 with 10 Axes>"
      ]
     },
     "metadata": {
      "needs_background": "light"
     },
     "output_type": "display_data"
    }
   ],
   "source": [
    "f1 = plt.figure(1)\n",
    "for i in range(10):\n",
    "\n",
    "    im_vector   = list_result[:, i]\n",
    "    im_matrix   = im_vector.reshape((size_row, size_col))\n",
    "\n",
    "    plt.subplot(1, 10, i+1)\n",
    "    plt.title(i)\n",
    "    plt.imshow(im_matrix, cmap='Greys', interpolation='None')\n",
    "\n",
    "    frame   = plt.gca()\n",
    "    frame.axes.get_xaxis().set_visible(False)\n",
    "    frame.axes.get_yaxis().set_visible(False)\n",
    "\n",
    "plt.show()"
   ]
  }
 ],
 "metadata": {
  "kernelspec": {
   "display_name": "Python 3",
   "language": "python",
   "name": "python3"
  },
  "language_info": {
   "codemirror_mode": {
    "name": "ipython",
    "version": 3
   },
   "file_extension": ".py",
   "mimetype": "text/x-python",
   "name": "python",
   "nbconvert_exporter": "python",
   "pygments_lexer": "ipython3",
   "version": "3.5.0"
  }
 },
 "nbformat": 4,
 "nbformat_minor": 2
}

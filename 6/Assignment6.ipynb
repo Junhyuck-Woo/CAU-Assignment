{
 "cells": [
  {
   "cell_type": "markdown",
   "metadata": {},
   "source": [
    "# Information\n",
    "$Writer:{\\;}Junhyuck{\\;}Woo\n",
    "\\\\ Std. ID: 20145337\n",
    "\\\\Project:{\\;}K-means{\\;}clustering{\\;}on{\\;}the{\\;}spatial{\\;}domain$"
   ]
  },
  {
   "cell_type": "markdown",
   "metadata": {},
   "source": [
    "# import library"
   ]
  },
  {
   "cell_type": "code",
   "execution_count": 1,
   "metadata": {},
   "outputs": [],
   "source": [
    "from collections import Counter\n",
    "from collections import OrderedDict\n",
    "import matplotlib.pyplot as plt\n",
    "import statistics\n",
    "import numpy as np\n",
    "import random as rd"
   ]
  },
  {
   "cell_type": "markdown",
   "metadata": {},
   "source": [
    "# Global parameter"
   ]
  },
  {
   "cell_type": "code",
   "execution_count": 2,
   "metadata": {},
   "outputs": [],
   "source": [
    "size_row = 100       # height of the image\n",
    "size_col = 100         # width of the image"
   ]
  },
  {
   "cell_type": "markdown",
   "metadata": {},
   "source": [
    "# Function: normalize the values of the input data to be [0, 1]"
   ]
  },
  {
   "cell_type": "code",
   "execution_count": 3,
   "metadata": {},
   "outputs": [],
   "source": [
    "def normalize(data):\n",
    "\n",
    "    data_normalized = (data - np.min(data)) / (np.max(data) - np.min(data))\n",
    "\n",
    "    return(data_normalized)"
   ]
  },
  {
   "cell_type": "markdown",
   "metadata": {},
   "source": [
    "# Function: Distance between two vectors x and y"
   ]
  },
  {
   "cell_type": "code",
   "execution_count": 4,
   "metadata": {},
   "outputs": [],
   "source": [
    "def distance(x, y):\n",
    "\n",
    "    d = (x - y) * (x - y)\n",
    "    s = np.sum(d)\n",
    "    r = np.sqrt(s)\n",
    "\n",
    "    return(s)"
   ]
  },
  {
   "cell_type": "markdown",
   "metadata": {},
   "source": [
    "# Function: L2 norm"
   ]
  },
  {
   "cell_type": "code",
   "execution_count": 5,
   "metadata": {},
   "outputs": [],
   "source": [
    "def l2_norm(x, y):\n",
    "    d = (x - y) * (x - y)\n",
    "    s = np.sum(d)\n",
    "    r = np.sqrt(s)\n",
    "    return(r)"
   ]
  },
  {
   "cell_type": "markdown",
   "metadata": {},
   "source": [
    "# Function: L1 norm"
   ]
  },
  {
   "cell_type": "code",
   "execution_count": 6,
   "metadata": {},
   "outputs": [],
   "source": [
    "def l1_norm(x,y):\n",
    "    d = np.absolute(x-y)\n",
    "    s = np.sum(d)\n",
    "    return(s)"
   ]
  },
  {
   "cell_type": "markdown",
   "metadata": {},
   "source": [
    "# Function: Centroid Combination"
   ]
  },
  {
   "cell_type": "code",
   "execution_count": 7,
   "metadata": {},
   "outputs": [],
   "source": [
    "def centroid_combination(centroid, centroid_label):\n",
    "    result = np.zeros((size_row, size_col, 2), dtype=float)\n",
    "    for i in range(size_row):\n",
    "        for j in range(size_col):\n",
    "            result[i,j,:] = centroid[:, centroid_label[i,j]]\n",
    "            \n",
    "    return(normalize(result))"
   ]
  },
  {
   "cell_type": "markdown",
   "metadata": {},
   "source": [
    "# Function: Visualizer"
   ]
  },
  {
   "cell_type": "code",
   "execution_count": 8,
   "metadata": {},
   "outputs": [],
   "source": [
    "def visualizer(data, data_label):\n",
    "    f1 = plt.figure(1)\n",
    "    \n",
    "    plt.title(data_label)\n",
    "    plt.imshow(data, interpolation='None')\n",
    "\n",
    "    frame   = plt.gca()\n",
    "    frame.axes.get_xaxis().set_visible(False)\n",
    "    frame.axes.get_yaxis().set_visible(False)\n",
    "        \n",
    "    plt.show()"
   ]
  },
  {
   "cell_type": "markdown",
   "metadata": {},
   "source": [
    "# Function: Initialize Centroid Label"
   ]
  },
  {
   "cell_type": "code",
   "execution_count": 9,
   "metadata": {},
   "outputs": [],
   "source": [
    "def initialize_centroid_label(row, col, k):\n",
    "    centroid_label = np.empty(row*col, dtype=int)\n",
    "    \n",
    "    # clustering\n",
    "    for i in range(row*col):\n",
    "        label = rd.randint(1, k) - 1\n",
    "        centroid_label[i] = label\n",
    "    \n",
    "    return(centroid_label.reshape((row, col)))"
   ]
  },
  {
   "cell_type": "markdown",
   "metadata": {},
   "source": [
    "# Function: Calculate Centroid (Average)"
   ]
  },
  {
   "cell_type": "code",
   "execution_count": 10,
   "metadata": {},
   "outputs": [],
   "source": [
    "def calculate_average_centroid(row, col, k, train_data, centroid_label):\n",
    "    \n",
    "    centroid = np.zeros((2, k), dtype=float)\n",
    "    count = np.zeros(k,dtype=int)\n",
    "    \n",
    "    # Create centroid image\n",
    "    for i in range(row):\n",
    "        for j in range(col):\n",
    "            index = centroid_label[i,j]\n",
    "            centroid[:,index] += train_data[i,j,:]\n",
    "            count[index] += 1\n",
    "    \n",
    "    for i in range(k):\n",
    "        if (count[i] != 0):\n",
    "            centroid[:, i] /= count[i]\n",
    "\n",
    "    return(centroid)"
   ]
  },
  {
   "cell_type": "markdown",
   "metadata": {},
   "source": [
    "# Function: Calculate Centroid (Median)"
   ]
  },
  {
   "cell_type": "code",
   "execution_count": 11,
   "metadata": {},
   "outputs": [],
   "source": [
    "def calculate_median_centroid(row, col, k, train_data, centroid_label):\n",
    "    x_buf = np.zeros((k, row*col), dtype=float)\n",
    "    y_buf = np.zeros((k, row*col), dtype=float)\n",
    "    centroid = np.zeros((2, k), dtype=float)\n",
    "    count = np.zeros(k, dtype=int)\n",
    "    \n",
    "    for i in range(row):\n",
    "        for j in range(col):\n",
    "            index = centroid_label[i,j]\n",
    "            x_buf[index, count[index]]= train_data[i,j,0]\n",
    "            y_buf[index, count[index]]= train_data[i,j,1]\n",
    "            count[index]+=1\n",
    "            \n",
    "    for i in range(k):\n",
    "        if count[i]==0:\n",
    "            centroid[:,i] = np.array([0, 0])\n",
    "            continue\n",
    "    \n",
    "        x_centroid = x_buf[i, 0:count[i]]\n",
    "        y_centroid = y_buf[i, 0:count[i]]\n",
    "        \n",
    "\n",
    "        x_centroid = np.sort(x_centroid)\n",
    "        y_centroid = np.sort(y_centroid)\n",
    "        x = x_centroid[int(count[i]/2)]\n",
    "        y = y_centroid[int(count[i]/2)]\n",
    "        centroid[:,i] = np.array([x, y])\n",
    "        \n",
    "    return(centroid)"
   ]
  },
  {
   "cell_type": "markdown",
   "metadata": {},
   "source": [
    "# Function: Clustering Data"
   ]
  },
  {
   "cell_type": "code",
   "execution_count": 12,
   "metadata": {},
   "outputs": [],
   "source": [
    "def clustering(row, col, k_num, train_data, centroid, mode):\n",
    "    cluster_label = np.zeros((size_row, size_col), dtype=int)\n",
    "    dist = np.zeros(k_num, dtype=float)\n",
    "    \n",
    "    for i in range(size_row):\n",
    "        for j in range(size_col):\n",
    "            for k in range(k_num):\n",
    "                if mode==1:\n",
    "                    dist[k] = l1_norm(train_data[i,j,:], centroid[:,k])\n",
    "                if mode==2:\n",
    "                    dist[k] = l2_norm(train_data[i,j,:], centroid[:,k])\n",
    "            cluster_label[i,j] = np.argmin(dist)\n",
    "            \n",
    "    return(cluster_label)"
   ]
  },
  {
   "cell_type": "markdown",
   "metadata": {},
   "source": [
    "# Function: Energy\n",
    "$\\frac{1}{n} \\sum_{x \\in \\Omega} \\| f(x) - m_c \\|^2\n",
    "\\\\ where{\\;}{k_i}{\\;}denotes{\\;}the{\\;}category{\\;}of{\\;}{x_i},{\\;}and{\\;}c_{k_i}{\\;}denotes{\\;}the{\\;}centroid{\\;}of{\\;}category{\\;}{x_i}$"
   ]
  },
  {
   "cell_type": "code",
   "execution_count": 13,
   "metadata": {},
   "outputs": [],
   "source": [
    "def calculate_energy(row, col, train_data, centroid, centroid_label, mode):\n",
    "    energy = 0\n",
    "    \n",
    "    for i in range(row):\n",
    "        for j in range(col):\n",
    "            if mode==1:\n",
    "                energy += l1_norm(train_data[i,j,:], centroid[:,centroid_label[i,j]])\n",
    "            if mode==2:\n",
    "                energy += l2_norm(train_data[i,j,:], centroid[:,centroid_label[i,j]])\n",
    "\n",
    "    return(energy/(row*col))"
   ]
  },
  {
   "cell_type": "markdown",
   "metadata": {},
   "source": [
    "# Function: K Means Algorithms"
   ]
  },
  {
   "cell_type": "code",
   "execution_count": 14,
   "metadata": {},
   "outputs": [],
   "source": [
    "def k_means(row, col, k, mode):\n",
    "    train_data = np.zeros((row, col, 2), dtype='f')\n",
    "    for i in range(row):\n",
    "        for j in range(col):\n",
    "            train_data[i][j][0] = j\n",
    "            train_data[j][i][1] = j\n",
    "    \n",
    "    energy = []\n",
    "    train_accuracy = []\n",
    "    \n",
    "    previous_label = np.zeros((row, col), dtype=int)\n",
    "    centroid_label = initialize_centroid_label(row, col, k)\n",
    "\n",
    "    while (~np.all(previous_label == centroid_label)):\n",
    "        if mode==1:\n",
    "            centroid = calculate_median_centroid(row, col, k, train_data, centroid_label)\n",
    "        if mode==2:\n",
    "            centroid = calculate_average_centroid(row, col, k, train_data, centroid_label)\n",
    "        \n",
    "        # check traaining energy\n",
    "        energy.append(calculate_energy(row, col, train_data, centroid, centroid_label, mode))\n",
    "        previous_label = centroid_label\n",
    "        centroid_label = clustering(row, col, k, train_data, centroid, mode)\n",
    "\n",
    "    # Visualize K centroid images for each category.\n",
    "    visualizer(centroid_label,\"\")\n",
    "        \n",
    "    # Plot the training energy per optimization iteration.\n",
    "    plt.plot(energy, label='Energy')\n",
    "    plt.legend(loc='upper right')\n",
    "    plt.show()"
   ]
  },
  {
   "cell_type": "markdown",
   "metadata": {},
   "source": [
    "# k=3 L1-Norm"
   ]
  },
  {
   "cell_type": "code",
   "execution_count": 15,
   "metadata": {
    "scrolled": false
   },
   "outputs": [
    {
     "data": {
      "image/png": "[encoded data removed]",
      "text/plain": [
       "<Figure size 432x288 with 1 Axes>"
      ]
     },
     "metadata": {
      "needs_background": "light"
     },
     "output_type": "display_data"
    },
    {
     "data": {
      "image/png": "[encoded data removed]",
      "text/plain": [
       "<Figure size 432x288 with 1 Axes>"
      ]
     },
     "metadata": {
      "needs_background": "light"
     },
     "output_type": "display_data"
    }
   ],
   "source": [
    "k_means(size_row, size_col, 3, 1)"
   ]
  },
  {
   "cell_type": "markdown",
   "metadata": {},
   "source": [
    "# K = 3 L2-norm"
   ]
  },
  {
   "cell_type": "code",
   "execution_count": 16,
   "metadata": {
    "scrolled": false
   },
   "outputs": [
    {
     "data": {
      "image/png": "[encoded data removed]",
      "text/plain": [
       "<Figure size 432x288 with 1 Axes>"
      ]
     },
     "metadata": {
      "needs_background": "light"
     },
     "output_type": "display_data"
    },
    {
     "data": {
      "image/png": "[encoded data removed]",
      "text/plain": [
       "<Figure size 432x288 with 1 Axes>"
      ]
     },
     "metadata": {
      "needs_background": "light"
     },
     "output_type": "display_data"
    }
   ],
   "source": [
    "k_means(size_row, size_col, 3, 2)"
   ]
  },
  {
   "cell_type": "markdown",
   "metadata": {},
   "source": [
    "# K = 5 L1-norm"
   ]
  },
  {
   "cell_type": "code",
   "execution_count": 19,
   "metadata": {
    "scrolled": false
   },
   "outputs": [
    {
     "data": {
      "image/png": "[encoded data removed]",
      "text/plain": [
       "<Figure size 432x288 with 1 Axes>"
      ]
     },
     "metadata": {
      "needs_background": "light"
     },
     "output_type": "display_data"
    },
    {
     "data": {
      "image/png": "[encoded data removed]",
      "text/plain": [
       "<Figure size 432x288 with 1 Axes>"
      ]
     },
     "metadata": {
      "needs_background": "light"
     },
     "output_type": "display_data"
    }
   ],
   "source": [
    "k_means(size_row, size_col, 5, 1)"
   ]
  },
  {
   "cell_type": "markdown",
   "metadata": {},
   "source": [
    "# K=5 L2-norm"
   ]
  },
  {
   "cell_type": "code",
   "execution_count": 20,
   "metadata": {},
   "outputs": [
    {
     "data": {
      "image/png": "[encoded data removed]",
      "text/plain": [
       "<Figure size 432x288 with 1 Axes>"
      ]
     },
     "metadata": {
      "needs_background": "light"
     },
     "output_type": "display_data"
    },
    {
     "data": {
      "image/png": "[encoded data removed]",
      "text/plain": [
       "<Figure size 432x288 with 1 Axes>"
      ]
     },
     "metadata": {
      "needs_background": "light"
     },
     "output_type": "display_data"
    }
   ],
   "source": [
    "k_means(size_row, size_col, 5, 2)"
   ]
  },
  {
   "cell_type": "markdown",
   "metadata": {},
   "source": [
    "# K = 9 L1-norm"
   ]
  },
  {
   "cell_type": "code",
   "execution_count": 21,
   "metadata": {
    "scrolled": false
   },
   "outputs": [
    {
     "data": {
      "image/png": "[encoded data removed]",
      "text/plain": [
       "<Figure size 432x288 with 1 Axes>"
      ]
     },
     "metadata": {
      "needs_background": "light"
     },
     "output_type": "display_data"
    },
    {
     "data": {
      "image/png": "[encoded data removed]",
      "text/plain": [
       "<Figure size 432x288 with 1 Axes>"
      ]
     },
     "metadata": {
      "needs_background": "light"
     },
     "output_type": "display_data"
    }
   ],
   "source": [
    "k_means(size_row, size_col, 9, 1)"
   ]
  },
  {
   "cell_type": "markdown",
   "metadata": {},
   "source": [
    "# k=9 L2-norm"
   ]
  },
  {
   "cell_type": "code",
   "execution_count": 22,
   "metadata": {},
   "outputs": [
    {
     "data": {
      "image/png": "[encoded data removed]",
      "text/plain": [
       "<Figure size 432x288 with 1 Axes>"
      ]
     },
     "metadata": {
      "needs_background": "light"
     },
     "output_type": "display_data"
    },
    {
     "data": {
      "image/png": "[encoded data removed]",
      "text/plain": [
       "<Figure size 432x288 with 1 Axes>"
      ]
     },
     "metadata": {
      "needs_background": "light"
     },
     "output_type": "display_data"
    }
   ],
   "source": [
    "k_means(size_row, size_col, 9, 2)"
   ]
  },
  {
   "cell_type": "markdown",
   "metadata": {},
   "source": [
    "# K = 15 L1-norm"
   ]
  },
  {
   "cell_type": "code",
   "execution_count": 23,
   "metadata": {},
   "outputs": [
    {
     "data": {
      "image/png": "[encoded data removed]",
      "text/plain": [
       "<Figure size 432x288 with 1 Axes>"
      ]
     },
     "metadata": {
      "needs_background": "light"
     },
     "output_type": "display_data"
    },
    {
     "data": {
      "image/png": "[encoded data removed]",
      "text/plain": [
       "<Figure size 432x288 with 1 Axes>"
      ]
     },
     "metadata": {
      "needs_background": "light"
     },
     "output_type": "display_data"
    }
   ],
   "source": [
    "k_means(size_row, size_col, 15, 1)"
   ]
  },
  {
   "cell_type": "markdown",
   "metadata": {},
   "source": [
    "# K=15 L2-norm"
   ]
  },
  {
   "cell_type": "code",
   "execution_count": 24,
   "metadata": {},
   "outputs": [
    {
     "data": {
      "image/png": "[encoded data removed]",
      "text/plain": [
       "<Figure size 432x288 with 1 Axes>"
      ]
     },
     "metadata": {
      "needs_background": "light"
     },
     "output_type": "display_data"
    },
    {
     "data": {
      "image/png": "[encoded data removed]",
      "text/plain": [
       "<Figure size 432x288 with 1 Axes>"
      ]
     },
     "metadata": {
      "needs_background": "light"
     },
     "output_type": "display_data"
    }
   ],
   "source": [
    "k_means(size_row, size_col, 15, 2)"
   ]
  }
 ],
 "metadata": {
  "kernelspec": {
   "display_name": "Python 3",
   "language": "python",
   "name": "python3"
  },
  "language_info": {
   "codemirror_mode": {
    "name": "ipython",
    "version": 3
   },
   "file_extension": ".py",
   "mimetype": "text/x-python",
   "name": "python",
   "nbconvert_exporter": "python",
   "pygments_lexer": "ipython3",
   "version": "3.5.0"
  }
 },
 "nbformat": 4,
 "nbformat_minor": 2
}
